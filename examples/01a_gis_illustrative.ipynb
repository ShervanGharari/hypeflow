{
 "cells": [
  {
   "cell_type": "code",
   "execution_count": 1,
   "id": "84e10be7-98b7-4efe-b9e4-4f1b3ac980b4",
   "metadata": {},
   "outputs": [
    {
     "name": "stdout",
     "output_type": "stream",
     "text": [
      "tinyGIS initiated\n"
     ]
    }
   ],
   "source": [
    "from model_builder.GIS import tinyGIS\n",
    "TG = tinyGIS()\n",
    "\n",
    "import pandas as pd\n",
    "import numpy as np\n",
    "from typing import Dict, Union\n",
    "from itertools import product\n",
    "import os\n"
   ]
  },
  {
   "cell_type": "markdown",
   "id": "2688eeb7-78c9-4b25-879f-d64485ec3128",
   "metadata": {},
   "source": [
    "## Illustrative examples"
   ]
  },
  {
   "cell_type": "code",
   "execution_count": 2,
   "id": "f5dc12dd-2f4e-487a-800e-5f96ab59d021",
   "metadata": {},
   "outputs": [
    {
     "name": "stdout",
     "output_type": "stream",
     "text": [
      "The indexes of all DataFrames are exactly the same with the same order.\n",
      "total number of non zero combinations:  7\n",
      "     comb_0001  comb_0002  comb_0003  comb_0004  comb_0005  comb_0006  \\\n",
      "ID1                                                                     \n",
      "1          0.3        0.5        0.0       0.00       0.00       0.00   \n",
      "2          0.0        0.0        1.0       0.00       0.00       0.00   \n",
      "3          0.0        0.0        0.0       0.15       0.35       0.15   \n",
      "\n",
      "     comb_0007  \n",
      "ID1             \n",
      "1         0.20  \n",
      "2         0.00  \n",
      "3         0.35  \n",
      "     Combinations LULC  S ASP  comb\n",
      "0  LULC_1 S2 ASP2    1  2   2     1\n",
      "1  LULC_3 S2 ASP2    3  2   2     2\n",
      "2  LULC_4 S1 ASP1    4  1   1     3\n",
      "3  LULC_5 S1 ASP1    5  1   1     4\n",
      "4  LULC_5 S1 ASP2    5  1   2     5\n",
      "5  LULC_5 S2 ASP1    5  2   1     6\n",
      "6  LULC_5 S2 ASP2    5  2   2     7\n",
      "<xarray.Dataset>\n",
      "Dimensions:       (m: 7, n: 3)\n",
      "Coordinates:\n",
      "  * m             (m) object 'comb_0001' 'comb_0002' ... 'comb_0006' 'comb_0007'\n",
      "  * n             (n) int64 1 2 3\n",
      "Data variables:\n",
      "    Combinations  (m) object 'LULC_1 S2 ASP2' ... 'LULC_5 S2 ASP2'\n",
      "    LULC          (m) object '1' '3' '4' '5' '5' '5' '5'\n",
      "    S             (m) object '2' '2' '1' '1' '1' '2' '2'\n",
      "    ASP           (m) object '2' '2' '1' '1' '2' '1' '2'\n",
      "    comb          (m) object 'comb_0001' 'comb_0002' ... 'comb_0006' 'comb_0007'\n",
      "    fraction      (n, m) float64 0.3 0.5 0.0 0.0 0.0 ... 0.0 0.15 0.35 0.15 0.35\n",
      "    id            (n) int64 1 2 3\n"
     ]
    }
   ],
   "source": [
    "# Sample DataFrames\n",
    "data1 = {\n",
    "    'ID1': [1,   2,  3],\n",
    "    'A_1': [0.3, 0,  0],\n",
    "    'A_2': [0,   0,  0],\n",
    "    'A_3': [0.5, 0,  0],\n",
    "    'A_4': [0,   1,  0],\n",
    "    'A_5': [0.2, 0,  1],\n",
    "    'B':   ['B','B','B'],\n",
    "}\n",
    "\n",
    "data2 = {\n",
    "    'ID2': [1, 2, 3  ],\n",
    "    'B1':  [0, 1, 0.5],\n",
    "    'B2':  [1, 0, 0.5]\n",
    "}\n",
    "\n",
    "data3 = {\n",
    "    'ID3': [1, 2,   3],\n",
    "    'C1':  [0, 1, 0.3],\n",
    "    'C2':  [1, 0, 0.7],\n",
    "    'D':   [1, 1,   1]\n",
    "}\n",
    "\n",
    "# Create DataFrames\n",
    "df1 = pd.DataFrame(data1)\n",
    "df2 = pd.DataFrame(data2)\n",
    "df3 = pd.DataFrame(data3)\n",
    "\n",
    "# Usage example:\n",
    "result, report, ds= TG.intersect_df(df1, df2, df3, \n",
    "                                    df_mappings={'df1': {'id': 'ID1', 'prefix':'A' , 'data_name':'LULC'}, \n",
    "                                                 'df2': {'id': 'ID2', 'prefix':'B' , 'data_name':'S'}, \n",
    "                                                 'df3': {'id': 'ID3', 'prefix':'C' , 'data_name':'ASP'}},\n",
    "                                    remove_zero_combinations = True)\n",
    "\n",
    "print(result)\n",
    "print(report)\n",
    "print(ds)"
   ]
  },
  {
   "cell_type": "code",
   "execution_count": 3,
   "id": "25059d93-aedf-4e54-b160-c37ff9184c19",
   "metadata": {},
   "outputs": [
    {
     "name": "stdout",
     "output_type": "stream",
     "text": [
      "    Frac_1  Frac_2  Frac_3  Frac_4\n",
      "ID                                \n",
      "10     0.0     0.5     0.6     0.0\n",
      "20     0.2     0.5     0.3     0.0\n",
      "30     0.0     0.0     0.0     0.0\n",
      "    Frac_1    Frac_2    Frac_3  Frac_4\n",
      "ID                                    \n",
      "10     0.0  0.454545  0.545455     0.0\n",
      "20     0.2  0.500000  0.300000     0.0\n",
      "30     0.0  1.000000  0.000000     0.0\n"
     ]
    }
   ],
   "source": [
    "# Your DataFrame\n",
    "data = {\n",
    "    'ID': [10,20,30],\n",
    "    'Frac_1': [0.0, 0.2, 0.0],\n",
    "    'Frac_2': [0.5, 0.5, 0.0],\n",
    "    'Frac_3': [0.6, 0.3, 0.0],\n",
    "    'Frac_4': [0.0, 0.0, 0.0],\n",
    "}\n",
    "\n",
    "df = pd.DataFrame(data)\n",
    "\n",
    "df_modified = TG.manipulating_fractions(df,\n",
    "                                        df_mapping={'id':'ID', 'prefix': 'Frac_'},\n",
    "                                        action = 'normalize',\n",
    "                                        minimum_value = 0.20)\n",
    "\n",
    "print(df)\n",
    "print(df_modified)"
   ]
  },
  {
   "cell_type": "code",
   "execution_count": 4,
   "id": "544e9aa2-8918-4426-96b9-a2c225dd658d",
   "metadata": {},
   "outputs": [
    {
     "name": "stdout",
     "output_type": "stream",
     "text": [
      "   ID  Frac_1  Frac_2  Frac_3  Frac_4\n",
      "0  10     0.0     0.5     0.6     0.0\n",
      "1  20     0.2     0.5     0.3     0.0\n",
      "2  30     0.0     0.0     0.0     0.0\n",
      "   ID  Frac_1  Frac_2  Frac_3  Frac_4 max_column\n",
      "0  10     0.0     0.5     0.6     0.0          3\n",
      "1  20     0.2     0.5     0.3     0.0          2\n",
      "2  30     0.0     0.0     0.0     0.0          1\n"
     ]
    }
   ],
   "source": [
    "# Your DataFrame\n",
    "data = {\n",
    "    'ID': [10,20,30],\n",
    "    'Frac_1': [0.0, 0.2, 0.0],\n",
    "    'Frac_2': [0.5, 0.5, 0.0],\n",
    "    'Frac_3': [0.6, 0.3, 0.0],\n",
    "    'Frac_4': [0.0, 0.0, 0.0],\n",
    "}\n",
    "\n",
    "df = pd.DataFrame(data)\n",
    "\n",
    "df_modified = TG.report_max_frac(df,\n",
    "                                 df_mapping={'prefix': 'Frac_'})\n",
    "\n",
    "print(df)\n",
    "print(df_modified)"
   ]
  },
  {
   "cell_type": "code",
   "execution_count": 5,
   "id": "cfaecd7d-d62b-455e-bb00-ef166c434901",
   "metadata": {},
   "outputs": [
    {
     "name": "stdout",
     "output_type": "stream",
     "text": [
      "    Frac_1  Frac_2  Frac_3  Frac_4\n",
      "ID                                \n",
      "10     0.0     0.5     0.6     0.0\n",
      "20     0.2     0.5     0.3     0.0\n",
      "30     0.0     0.0     0.0     0.0\n",
      "    Frac_1  Frac_2  Frac_3  Frac_4\n",
      "ID                                \n",
      "10     0.0     0.0     1.0     0.0\n",
      "20     0.0     1.0     0.0     0.0\n",
      "30     0.0     1.0     0.0     0.0\n"
     ]
    }
   ],
   "source": [
    "# Your DataFrame\n",
    "data = {\n",
    "    'ID': [10,20,30],\n",
    "    'Frac_1': [0.0, 0.2, 0.0],\n",
    "    'Frac_2': [0.5, 0.5, 0.0],\n",
    "    'Frac_3': [0.6, 0.3, 0.0],\n",
    "    'Frac_4': [0.0, 0.0, 0.0],\n",
    "}\n",
    "\n",
    "df = pd.DataFrame(data)\n",
    "\n",
    "df_modified = TG.manipulating_fractions(df,\n",
    "                                        df_mapping={'id':'ID', 'prefix': 'Frac_'},\n",
    "                                        action = 'majority')\n",
    "\n",
    "print(df)\n",
    "print(df_modified)"
   ]
  }
 ],
 "metadata": {
  "kernelspec": {
   "display_name": "fhimp_venv",
   "language": "python",
   "name": "fhimp_venv"
  },
  "language_info": {
   "codemirror_mode": {
    "name": "ipython",
    "version": 3
   },
   "file_extension": ".py",
   "mimetype": "text/x-python",
   "name": "python",
   "nbconvert_exporter": "python",
   "pygments_lexer": "ipython3",
   "version": "3.10.2"
  }
 },
 "nbformat": 4,
 "nbformat_minor": 5
}
