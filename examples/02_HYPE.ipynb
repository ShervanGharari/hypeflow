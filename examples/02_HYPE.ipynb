{
 "cells": [
  {
   "cell_type": "code",
   "execution_count": 1,
   "id": "8527ed84-e580-49f4-b38b-c2503ca26795",
   "metadata": {},
   "outputs": [],
   "source": []
  },
  {
   "cell_type": "code",
   "execution_count": 2,
   "id": "45a77d22-0891-4342-91f1-70b6574b7686",
   "metadata": {},
   "outputs": [],
   "source": [
    "from model_builder import hype\n",
    "HP = hype.HYPEWorkflow()\n",
    "\n",
    "import pandas      as      pd\n",
    "import numpy       as      np\n",
    "import geopandas   as      gpd\n",
    "import sys\n",
    "from   itertools   import  product\n",
    "import os\n",
    "import datetime"
   ]
  },
  {
   "cell_type": "code",
   "execution_count": 4,
   "id": "ee0da2f5-30fd-45f2-a009-ee7c6063a1ea",
   "metadata": {},
   "outputs": [
    {
     "name": "stderr",
     "output_type": "stream",
     "text": [
      "/home/shg096/FHIMP/virtual_env/fhimp_venv/lib/python3.10/site-packages/model_builder/hype.py:72: SettingWithCopyWarning: \n",
      "A value is trying to be set on a copy of a slice from a DataFrame.\n",
      "Try using .loc[row_indexer,col_indexer] = value instead\n",
      "\n",
      "See the caveats in the documentation: https://pandas.pydata.org/pandas-docs/stable/user_guide/indexing.html#returning-a-view-versus-a-copy\n",
      "  combination['Main crop cropid'] = 0\n"
     ]
    },
    {
     "name": "stdout",
     "output_type": "stream",
     "text": [
      "The indexes of all DataFrames are exactly the same with the same order.\n"
     ]
    }
   ],
   "source": [
    "# create the GeoClass\n",
    "HRUs = pd.read_csv('./data/gis/HRU.csv')\n",
    "HP.GeoClass(HRUs,\n",
    "            './data/HYPE/HYPE_Geo_Class.txt',\n",
    "            mapping = {'SLC':'comb','landcover':'LULC','soil':'soil'},\n",
    "            commented_lines = '! HYPE GeoClass')\n",
    "\n",
    "# create the GeoData\n",
    "elevation = pd.read_csv('./data/gis/West_stats_elv.csv')\n",
    "HRU_frac = pd.read_csv('./data/gis/HRU_frac.csv')\n",
    "ntopo = pd.read_csv('./data/topology/West_mizuRoute_ntopo.csv')\n",
    "HP.GaoData (ntopo, elevation, HRU_frac,\n",
    "            df_mappings = {\n",
    "                'df1': {'id': 'COMID', 'rename_dict': {'subid':'subid',\\\n",
    "                                                       'maindown':'NextDownID',\\\n",
    "                                                       'area':'unitarea',\\\n",
    "                                                       'latitude':'latitude',\\\n",
    "                                                       'longitude':'longitude',\\\n",
    "                                                       'up_area':'uparea',\\\n",
    "                                                       'slope_mean':'slope',\\\n",
    "                                                       'rivlen':'length'}},\n",
    "                'df2': {'id': 'COMID', 'rename_dict': {'elev_mean':'mean'}},\n",
    "                'df3': {'id': 'COMID', 'rename_dict': {'SLC_':'comb_*'}}},\n",
    "            outfile = './data/HYPE/HYPE_Geo_Data.txt')\n",
    "\n",
    "# create the param file based on CEC LULC and soil type\n",
    "HP.Parameters('./data/HYPE/par.txt')\n",
    "\n",
    "# create sample forcing\n",
    "ID = ntopo['subid'].values\n",
    "HP.sample_forcing (ID, out_folder = './data/HYPE/')"
   ]
  },
  {
   "cell_type": "code",
   "execution_count": null,
   "id": "aef3fd26-76fb-4935-9129-93ec782550a2",
   "metadata": {},
   "outputs": [],
   "source": []
  }
 ],
 "metadata": {
  "kernelspec": {
   "display_name": "fhimp_venv",
   "language": "python",
   "name": "fhimp_venv"
  },
  "language_info": {
   "codemirror_mode": {
    "name": "ipython",
    "version": 3
   },
   "file_extension": ".py",
   "mimetype": "text/x-python",
   "name": "python",
   "nbconvert_exporter": "python",
   "pygments_lexer": "ipython3",
   "version": "3.10.2"
  }
 },
 "nbformat": 4,
 "nbformat_minor": 5
}
