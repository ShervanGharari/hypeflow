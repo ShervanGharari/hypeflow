{
 "cells": [
  {
   "cell_type": "code",
   "execution_count": null,
   "id": "d70f3f7a-ab0b-43ac-a495-a56121eeffa6",
   "metadata": {},
   "outputs": [],
   "source": [
    "import hydrant.gis.gis as gis\n",
    "import pandas as pd\n",
    "import numpy as np\n",
    "from typing import Dict, Union\n",
    "from itertools import product"
   ]
  }
 ],
 "metadata": {
  "kernelspec": {
   "display_name": "fhimp_venv",
   "language": "python",
   "name": "fhimp_venv"
  },
  "language_info": {
   "codemirror_mode": {
    "name": "ipython",
    "version": 3
   },
   "file_extension": ".py",
   "mimetype": "text/x-python",
   "name": "python",
   "nbconvert_exporter": "python",
   "pygments_lexer": "ipython3",
   "version": "3.10.2"
  }
 },
 "nbformat": 4,
 "nbformat_minor": 5
}
