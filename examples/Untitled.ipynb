{
 "cells": [
  {
   "cell_type": "code",
   "execution_count": 1,
   "id": "8527ed84-e580-49f4-b38b-c2503ca26795",
   "metadata": {},
   "outputs": [],
   "source": [
    "import numpy"
   ]
  },
  {
   "cell_type": "code",
   "execution_count": null,
   "id": "45a77d22-0891-4342-91f1-70b6574b7686",
   "metadata": {},
   "outputs": [],
   "source": [
    "import pandas      as      pd\n",
    "import numpy       as      np\n",
    "import geopandas   as      gpd\n",
    "import sys\n",
    "from   itertools   import  product\n",
    "import os\n",
    "import datetime"
   ]
  },
  {
   "cell_type": "code",
   "execution_count": null,
   "id": "5a858b66-b0c2-4475-92d6-f3fd1c75de0c",
   "metadata": {},
   "outputs": [],
   "source": [
    "# load the information from the gistool for soil and land cover and find the number of geoclass\n",
    "\n",
    "\n",
    "\n",
    "\n",
    "def hype_geo_fabric()\n",
    "\n",
    "def hype_geo_class (soil_df,\n",
    "                    land_cover_df)\n",
    "\n",
    "soil_type = pd.read_csv(path_org+'gistool_outputs/soil_classes/modified_'+case_name+'_stats_soil_classes.csv')\n",
    "landcover_type = pd.read_csv(path_org+'gistool_outputs/landsat/modified_'+case_name+'_stats_NA_NALCMS_landcover_2020_30m.csv')\n",
    "elevation_mean = pd.read_csv(path_org+'gistool_outputs/merit_hydro/modified_'+case_name+'_stats_elv.csv')"
   ]
  }
 ],
 "metadata": {
  "kernelspec": {
   "display_name": "fhimp_venv",
   "language": "python",
   "name": "fhimp_venv"
  },
  "language_info": {
   "codemirror_mode": {
    "name": "ipython",
    "version": 3
   },
   "file_extension": ".py",
   "mimetype": "text/x-python",
   "name": "python",
   "nbconvert_exporter": "python",
   "pygments_lexer": "ipython3",
   "version": "3.10.2"
  }
 },
 "nbformat": 4,
 "nbformat_minor": 5
}
